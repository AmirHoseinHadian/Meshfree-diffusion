{
 "cells": [
  {
   "cell_type": "code",
   "execution_count": 1,
   "id": "ca0ce763",
   "metadata": {},
   "outputs": [],
   "source": [
    "import numpy as np\n",
    "\n",
    "from Solver import mesh_less, crank_nicolson_fd\n",
    "from Utilz import F_v0, F_v0_x, diff, eval_F\n",
    "\n",
    "import matplotlib.pyplot as plt\n",
    "from scipy.interpolate import interp1d\n",
    "import matplotlib.gridspec as gridspec"
   ]
  },
  {
   "cell_type": "code",
   "execution_count": 2,
   "id": "90fde0d1",
   "metadata": {},
   "outputs": [],
   "source": [
    "def mu(x, t, prms):\n",
    "    T = prms[0]\n",
    "    sigma = prms[1]\n",
    "    a = prms[2]\n",
    "    v0 = prms[3]\n",
    "    T_infty = prms[4]\n",
    "    \n",
    "    return T*T_infty/(a*(T_infty - T*t)) * (a/(2*T_infty) * (2*x-1) - v0)"
   ]
  },
  {
   "cell_type": "code",
   "execution_count": 3,
   "id": "e0e01686",
   "metadata": {},
   "outputs": [],
   "source": [
    "def g(x, t, prms, max_k=20):\n",
    "    T = prms[0]\n",
    "    sigma = prms[1]\n",
    "    a = prms[2]\n",
    "    v0 = prms[3]\n",
    "    T_infty = prms[4]\n",
    "    \n",
    "    sigma_hat = (T*T_infty*sigma**2)/(2*a**2*(T_infty-T))\n",
    "\n",
    "    if t == 0:\n",
    "        return 0\n",
    "    elif np.isclose(mu(x, t, prms) - mu(0, 0, prms), 0):\n",
    "        return 0\n",
    "    else:\n",
    "        return (mu(x, t, prms) - mu(0, 0, prms)) * F_v0_x(x, t, sigma_hat, mu(0, 0, prms), max_k)"
   ]
  },
  {
   "cell_type": "markdown",
   "id": "7b9333fc",
   "metadata": {},
   "source": [
    "# Error Estimation:"
   ]
  },
  {
   "cell_type": "code",
   "execution_count": 4,
   "id": "d429430a",
   "metadata": {},
   "outputs": [
    {
     "name": "stdout",
     "output_type": "stream",
     "text": [
      "Exact solution ...\n",
      "T = 0.2, ML_1_ERR = 0.008258133897495858, ML_2_ERR = 0.008016474341239787, and ML_3_ERR = 0.007535124016610333\n",
      "FD_ERR = 0.015248408859134399,\n",
      "\t\t\t\t....................................\n",
      "Exact solution ...\n",
      "T = 0.4, ML_1_ERR = 0.008315922265165154, ML_2_ERR = 0.00805645647352649, and ML_3_ERR = 0.00792965641949162\n",
      "FD_ERR = 0.015370495020323413,\n",
      "\t\t\t\t....................................\n",
      "Exact solution ...\n",
      "T = 0.6, ML_1_ERR = 0.008461338168885257, ML_2_ERR = 0.008533285855143218, and ML_3_ERR = 0.008995112590971818\n",
      "FD_ERR = 0.01349016099701169,\n",
      "\t\t\t\t....................................\n",
      "Exact solution ...\n",
      "T = 0.8, ML_1_ERR = 0.00366741445766276, ML_2_ERR = 0.003904621136780976, and ML_3_ERR = 0.004434357986960888\n",
      "FD_ERR = 0.00708765743971625,\n",
      "\t\t\t\t....................................\n",
      "Exact solution ...\n",
      "T = 1.0, ML_1_ERR = 0.00445391408187274, ML_2_ERR = 0.004271625893846787, and ML_3_ERR = 0.004008786290594353\n",
      "FD_ERR = 0.003206476115114471,\n",
      "\t\t\t\t....................................\n"
     ]
    }
   ],
   "source": [
    "sigma = 1\n",
    "a = 1.5\n",
    "v0 = 1.1\n",
    "T_infty = 2\n",
    "\n",
    "M_ml_1 = 3\n",
    "M_fd = M_ml_1\n",
    "\n",
    "time_step = 10\n",
    "\n",
    "max_k = 20\n",
    "\n",
    "xx = np.linspace(0, 1, 21)\n",
    "theta = 0.5\n",
    "\n",
    "for T in [.2, .4, .6, .8, 1.0]:\n",
    "    prms = [T, sigma, a, v0, T_infty]\n",
    "    kappa = (T*T_infty*sigma**2)/(2*a**2*(T_infty-T))\n",
    "    \n",
    "    ml_1 = mesh_less(kappa, prms, mu, g, theta=theta, M=M_ml_1, N=time_step, max_k=max_k, eps=0.1)\n",
    "    ml_2 = mesh_less(kappa, prms, mu, g, theta=theta, M=M_ml_1, N=time_step, max_k=max_k, eps=0.4)\n",
    "    ml_3 = mesh_less(kappa, prms, mu, g, theta=theta, M=M_ml_1, N=time_step, max_k=max_k, eps=0.7)\n",
    "    \n",
    "    fd = crank_nicolson_fd(kappa, prms, mu, g, theta=0.5, M=M_fd, N=time_step, max_k=max_k)\n",
    "    print('Exact solution ...')\n",
    "    fd_ex = np.load('_exact/exact_LC_{}.npy'.format(int(T*10)), allow_pickle=True)[()]\n",
    "    \n",
    "    exact = interp1d(fd_ex['X'], np.concatenate((np.array([0]), fd_ex['sol'], np.array([0]))), 'quadratic')\n",
    "    fdp = interp1d(fd['X'], np.concatenate((np.array([0]), fd['sol'], np.array([0]))), 'quadratic')\n",
    "    \n",
    "    fd_err = np.sqrt(np.sum([np.abs(fdp(x) - exact(x))**2 for x in xx]))\n",
    "    \n",
    "    err_ml_1 = np.sqrt(np.sum([np.abs(eval_F(ml_1, x) - exact(x))**2 for x in xx]))\n",
    "    err_ml_2 = np.sqrt(np.sum([np.abs(eval_F(ml_2, x) - exact(x))**2 for x in xx]))\n",
    "    err_ml_3 = np.sqrt(np.sum([np.abs(eval_F(ml_3, x) - exact(x))**2 for x in xx]))\n",
    "    \n",
    "    print('T = {}, ML_1_ERR = {}, ML_2_ERR = {}, and ML_3_ERR = {}'.format(T, err_ml_1, err_ml_2, err_ml_3))\n",
    "    print('FD_ERR = {},'.format(fd_err))\n",
    "    print(\"\\t\\t\\t\\t....................................\")"
   ]
  },
  {
   "cell_type": "code",
   "execution_count": 465,
   "id": "05633635",
   "metadata": {},
   "outputs": [
    {
     "name": "stdout",
     "output_type": "stream",
     "text": [
      "Exact solution ...\n"
     ]
    }
   ],
   "source": [
    "sigma = 1\n",
    "a = 1.5\n",
    "v0 = 1.1\n",
    "T_infty = 2\n",
    "\n",
    "time_step = 6\n",
    "\n",
    "max_k = 20\n",
    "\n",
    "xx = np.linspace(0, 1, 21)\n",
    "theta = 0.5\n",
    "T = 0.2\n",
    "\n",
    "m1 = 5\n",
    "m2 = 6\n",
    "\n",
    "prms = [T, sigma, a, v0, T_infty]\n",
    "kappa = (T*T_infty*sigma**2)/(2*a**2*(T_infty-T))\n",
    "\n",
    "ml_1 = mesh_less(kappa, prms, mu, g, theta=theta, M=m1, N=time_step, max_k=max_k, eps=7)\n",
    "ml_2 = mesh_less(kappa, prms, mu, g, theta=theta, M=m2, N=time_step, max_k=max_k, eps=7)\n",
    "\n",
    "fd_1 = crank_nicolson_fd(kappa, prms, mu, g, theta=0.5, M=m1, N=time_step, max_k=max_k)\n",
    "fd_2 = crank_nicolson_fd(kappa, prms, mu, g, theta=0.5, M=m2, N=time_step, max_k=max_k)\n",
    "print('Exact solution ...')\n",
    "fd_ex = np.load('_exact/exact_LC_{}.npy'.format(int(T*10)), allow_pickle=True)[()]\n",
    "\n",
    "exact = interp1d(fd_ex['X'], np.concatenate((np.array([0]), fd_ex['sol'], np.array([0]))), 'quadratic')\n",
    "fdp_1 = interp1d(fd_1['X'], np.concatenate((np.array([0]), fd_1['sol'], np.array([0]))), 'quadratic')\n",
    "fdp_2 = interp1d(fd_2['X'], np.concatenate((np.array([0]), fd_2['sol'], np.array([0]))), 'quadratic')\n",
    "\n",
    "fd_err_1 = np.sqrt(np.sum([(fdp_1(x) - exact(x))**2 for x in xx]))\n",
    "fd_err_2 = np.sqrt(np.sum([(fdp_2(x) - exact(x))**2 for x in xx]))\n",
    "\n",
    "err_ml_1 = np.sqrt(np.sum([np.abs(eval_F(ml_1, x) - exact(x))**2 for x in xx]))\n",
    "err_ml_2 = np.sqrt(np.sum([np.abs(eval_F(ml_2, x) - exact(x))**2 for x in xx]))"
   ]
  },
  {
   "cell_type": "code",
   "execution_count": 466,
   "id": "1cf36592",
   "metadata": {},
   "outputs": [
    {
     "data": {
      "text/plain": [
       "(0.004493970174415931, 0.002792565767511808, 0.6863992917563367)"
      ]
     },
     "execution_count": 466,
     "metadata": {},
     "output_type": "execute_result"
    }
   ],
   "source": [
    "fd_err_1, fd_err_2, np.log2(fd_err_1/fd_err_2)"
   ]
  },
  {
   "cell_type": "code",
   "execution_count": 467,
   "id": "2b819b98",
   "metadata": {},
   "outputs": [
    {
     "data": {
      "text/plain": [
       "(0.005387484657598379, 0.0025607655673593223, 1.073036672402914)"
      ]
     },
     "execution_count": 467,
     "metadata": {},
     "output_type": "execute_result"
    }
   ],
   "source": [
    "err_ml_1, err_ml_2, np.log2(err_ml_1/err_ml_2)"
   ]
  },
  {
   "cell_type": "markdown",
   "id": "0ff6dfa3",
   "metadata": {},
   "source": [
    "# Time Evaluation:"
   ]
  },
  {
   "cell_type": "code",
   "execution_count": 4,
   "id": "9d12d97e",
   "metadata": {},
   "outputs": [],
   "source": [
    "import timeit"
   ]
  },
  {
   "cell_type": "code",
   "execution_count": 15,
   "id": "28e6d54c",
   "metadata": {},
   "outputs": [
    {
     "name": "stdout",
     "output_type": "stream",
     "text": [
      "Time:  5.523177379200206\n"
     ]
    }
   ],
   "source": [
    "sigma = 1\n",
    "a = 1.5\n",
    "v0 = 1.1\n",
    "T_infty = 2\n",
    "\n",
    "M_ml_1 = 15\n",
    "M_fd = M_ml_1\n",
    "\n",
    "time_step = 10\n",
    "\n",
    "max_k = 20\n",
    "\n",
    "xx = np.linspace(0, 1, 21)\n",
    "theta = 0.5       \n",
    "\n",
    "start = timeit.default_timer()\n",
    "\n",
    "for _ in range(10):\n",
    "    for T in np.arange(0, 1+1/15, 1/15)[1:]:\n",
    "        prms = [T, sigma, a, v0, T_infty]\n",
    "        kappa = (T*T_infty*sigma**2)/(2*a**2*(T_infty-T))\n",
    "\n",
    "#         ml_1 = mesh_less(kappa, prms, mu, g, theta=theta, M=M_ml_1, N=time_step, max_k=max_k, eps=0.4)\n",
    "    \n",
    "        fd = crank_nicolson_fd(kappa, prms, mu, g, theta=0.5, M=M_fd, N=time_step, max_k=max_k)\n",
    "        fdp = interp1d(fd['X'], np.concatenate((np.array([0]), fd['sol'], np.array([0]))), 'quadratic')\n",
    "\n",
    "\n",
    "stop = timeit.default_timer()\n",
    "\n",
    "print('Time: ', (stop - start)/10)"
   ]
  },
  {
   "cell_type": "code",
   "execution_count": null,
   "id": "d48e08d6",
   "metadata": {},
   "outputs": [],
   "source": []
  }
 ],
 "metadata": {
  "kernelspec": {
   "display_name": "Python 3 (ipykernel)",
   "language": "python",
   "name": "python3"
  },
  "language_info": {
   "codemirror_mode": {
    "name": "ipython",
    "version": 3
   },
   "file_extension": ".py",
   "mimetype": "text/x-python",
   "name": "python",
   "nbconvert_exporter": "python",
   "pygments_lexer": "ipython3",
   "version": "3.10.6"
  }
 },
 "nbformat": 4,
 "nbformat_minor": 5
}
