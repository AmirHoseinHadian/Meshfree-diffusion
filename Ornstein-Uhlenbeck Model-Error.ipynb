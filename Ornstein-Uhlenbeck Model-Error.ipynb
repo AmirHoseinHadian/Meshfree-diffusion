{
 "cells": [
  {
   "cell_type": "code",
   "execution_count": 1,
   "id": "36811957",
   "metadata": {},
   "outputs": [],
   "source": [
    "import numpy as np\n",
    "\n",
    "from Solver import mesh_less, crank_nicolson_fd\n",
    "from Utilz import F_v0, F_v0_x, diff, eval_F\n",
    "\n",
    "import matplotlib.pyplot as plt\n",
    "from scipy.interpolate import interp1d\n",
    "import matplotlib.gridspec as gridspec"
   ]
  },
  {
   "cell_type": "code",
   "execution_count": 2,
   "id": "a9802f23",
   "metadata": {},
   "outputs": [],
   "source": [
    "def mu(x, t, prms):\n",
    "    T = prms[0]\n",
    "    sigma = prms[1]\n",
    "    a = prms[2]\n",
    "    beta = prms[3]\n",
    "    v0 = prms[4]\n",
    "    \n",
    "    beta_hat = beta*T\n",
    "    v0_hat = beta*T - T*v0/a\n",
    "    \n",
    "    return v0_hat - beta_hat*x"
   ]
  },
  {
   "cell_type": "code",
   "execution_count": 3,
   "id": "84542bfe",
   "metadata": {},
   "outputs": [],
   "source": [
    "def g(x, t, prms, max_k=6):\n",
    "    T = prms[0]\n",
    "    sigma = prms[1]\n",
    "    a = prms[2]\n",
    "    beta = prms[3]\n",
    "    v0 = prms[4]\n",
    "    \n",
    "    kappa = (T*sigma**2)/(2*a**2)\n",
    "\n",
    "    if t == 0:\n",
    "        return 0\n",
    "    elif np.isclose(mu(x, t, prms) - mu(0, 0, prms), 0):\n",
    "        return 0\n",
    "    else:\n",
    "        return (mu(x, t, prms) - mu(0, 0, prms)) * F_v0_x(x, t, kappa, mu(0, 0, prms), max_k)"
   ]
  },
  {
   "cell_type": "markdown",
   "id": "802105bc",
   "metadata": {},
   "source": [
    "# Error Estimation:"
   ]
  },
  {
   "cell_type": "code",
   "execution_count": 16,
   "id": "d43cb201",
   "metadata": {},
   "outputs": [
    {
     "name": "stdout",
     "output_type": "stream",
     "text": [
      "Exact solution ...\n",
      "T = 0.2, ML_1_ERR = 0.006070984936560772, ML_2_ERR = 0.0058328121911313075, and ML_3_ERR = 0.0054549694692943495\n",
      "FD_ERR = 0.007386689621270208,\n",
      "\t\t\t\t....................................\n",
      "Exact solution ...\n",
      "T = 0.4, ML_1_ERR = 0.005492601739403705, ML_2_ERR = 0.005625429107788856, and ML_3_ERR = 0.005828825066509726\n",
      "FD_ERR = 0.012042592244386172,\n",
      "\t\t\t\t....................................\n",
      "Exact solution ...\n",
      "T = 0.6, ML_1_ERR = 0.006121578189097448, ML_2_ERR = 0.00645813772759656, and ML_3_ERR = 0.0069769773233267236\n",
      "FD_ERR = 0.01472270452762912,\n",
      "\t\t\t\t....................................\n",
      "Exact solution ...\n",
      "T = 0.8, ML_1_ERR = 0.007804177067759537, ML_2_ERR = 0.008097925018761904, and ML_3_ERR = 0.008553799949326691\n",
      "FD_ERR = 0.01622843883059446,\n",
      "\t\t\t\t....................................\n",
      "Exact solution ...\n",
      "T = 1, ML_1_ERR = 0.009374564962762707, ML_2_ERR = 0.009573830887140899, and ML_3_ERR = 0.00987653984241118\n",
      "FD_ERR = 0.016852710718502955,\n",
      "\t\t\t\t....................................\n"
     ]
    }
   ],
   "source": [
    "sigma = 1\n",
    "a = 1.2\n",
    "T = 0.5\n",
    "v0 = 1\n",
    "beta = 0.4\n",
    "\n",
    "M_ml_1 = 3\n",
    "M_fd = M_ml_1\n",
    "\n",
    "time_step = 10\n",
    "\n",
    "max_k = 20\n",
    "\n",
    "xx = np.linspace(0, 1, 21)\n",
    "theta = .5\n",
    "\n",
    "for T in [.2, .4, .6, 0.8, 1]:\n",
    "    prms = [T, sigma, a, beta, v0]\n",
    "    kappa = (T*sigma**2)/(2*a**2)\n",
    "    \n",
    "    ml_1 = mesh_less(kappa, prms, mu, g, theta=theta, M=M_ml_1, N=time_step, max_k=max_k, eps=0.2)\n",
    "    ml_2 = mesh_less(kappa, prms, mu, g, theta=theta, M=M_ml_1, N=time_step, max_k=max_k, eps=0.4)\n",
    "    ml_3 = mesh_less(kappa, prms, mu, g, theta=theta, M=M_ml_1, N=time_step, max_k=max_k, eps=0.6)\n",
    "      \n",
    "    fd = crank_nicolson_fd(kappa, prms, mu, g, theta=0.5, M=M_fd, N=time_step, max_k=max_k)\n",
    "    print('Exact solution ...')\n",
    "    fd_ex = fd_ex = np.load('_exact/exact_OU_{}.npy'.format(int(T*10)), allow_pickle=True)[()]\n",
    "    \n",
    "    exact = interp1d(fd_ex['X'], np.concatenate((np.array([0]), fd_ex['sol'], np.array([0]))), 'quadratic')\n",
    "    fdp = interp1d(fd['X'], np.concatenate((np.array([0]), fd['sol'], np.array([0]))), 'quadratic')\n",
    "    \n",
    "    fd_err = np.sqrt(np.sum([np.abs(fdp(x) - exact(x))**2 for x in xx]))\n",
    "    \n",
    "    err_ml_1 = np.sqrt(np.sum([(eval_F(ml_1, x) - exact(x))**2 for x in xx]))\n",
    "    err_ml_2 = np.sqrt(np.sum([(eval_F(ml_2, x) - exact(x))**2 for x in xx]))\n",
    "    err_ml_3 = np.sqrt(np.sum([(eval_F(ml_3, x) - exact(x))**2 for x in xx]))\n",
    "       \n",
    "    print('T = {}, ML_1_ERR = {}, ML_2_ERR = {}, and ML_3_ERR = {}'.format(T, err_ml_1, err_ml_2, err_ml_3))\n",
    "    print('FD_ERR = {},'.format(fd_err))\n",
    "    print(\"\\t\\t\\t\\t....................................\")"
   ]
  },
  {
   "cell_type": "code",
   "execution_count": 332,
   "id": "0bfeeb70",
   "metadata": {},
   "outputs": [
    {
     "name": "stdout",
     "output_type": "stream",
     "text": [
      "Exact solution ...\n"
     ]
    }
   ],
   "source": [
    "sigma = 1\n",
    "a = 1.2\n",
    "T = 0.5\n",
    "v0 = 1\n",
    "beta = 0.4\n",
    "\n",
    "time_step = 6\n",
    "\n",
    "max_k = 20\n",
    "\n",
    "xx = np.linspace(0, 1, 21)\n",
    "theta = .5\n",
    "T = .2\n",
    "\n",
    "m1 = 5\n",
    "m2 = 6\n",
    "\n",
    "prms = [T, sigma, a, beta, v0]\n",
    "kappa = (T*sigma**2)/(2*a**2)\n",
    "\n",
    "ml_1 = mesh_less(kappa, prms, mu, g, theta=theta, M=m1, N=time_step, max_k=max_k, eps=.7)\n",
    "ml_2 = mesh_less(kappa, prms, mu, g, theta=theta, M=m2, N=time_step, max_k=max_k, eps=.7)\n",
    "\n",
    "fd_1 = crank_nicolson_fd(kappa, prms, mu, g, theta=0.5, M=m1, N=time_step, max_k=max_k)\n",
    "fd_2 = crank_nicolson_fd(kappa, prms, mu, g, theta=0.5, M=m2, N=time_step, max_k=max_k)\n",
    "print('Exact solution ...')\n",
    "fd_ex = fd_ex = np.load('_exact/exact_OU_{}.npy'.format(int(T*10)), allow_pickle=True)[()]\n",
    "\n",
    "exact = interp1d(fd_ex['X'], np.concatenate((np.array([0]), fd_ex['sol'], np.array([0]))), 'quadratic')\n",
    "fdp_1 = interp1d(fd_1['X'], np.concatenate((np.array([0]), fd_1['sol'], np.array([0]))), 'quadratic')\n",
    "fdp_2 = interp1d(fd_2['X'], np.concatenate((np.array([0]), fd_2['sol'], np.array([0]))), 'quadratic')\n",
    "\n",
    "fd_err_1 = np.sqrt(np.sum([(fdp_1(x) - exact(x))**2 for x in xx]))\n",
    "fd_err_2 = np.sqrt(np.sum([(fdp_2(x) - exact(x))**2 for x in xx]))\n",
    "\n",
    "err_ml_1 = np.sqrt(np.sum([np.abs(eval_F(ml_1, x) - exact(x))**2 for x in xx]))\n",
    "err_ml_2 = np.sqrt(np.sum([np.abs(eval_F(ml_2, x) - exact(x))**2 for x in xx]))"
   ]
  },
  {
   "cell_type": "code",
   "execution_count": 333,
   "id": "7b95403f",
   "metadata": {},
   "outputs": [
    {
     "data": {
      "text/plain": [
       "(0.0030348071834919777, 0.0021072221404189488, 0.526262448676134)"
      ]
     },
     "execution_count": 333,
     "metadata": {},
     "output_type": "execute_result"
    }
   ],
   "source": [
    "fd_err_1, fd_err_2, np.log2(fd_err_1/fd_err_2)"
   ]
  },
  {
   "cell_type": "code",
   "execution_count": 334,
   "id": "002ed21c",
   "metadata": {},
   "outputs": [
    {
     "data": {
      "text/plain": [
       "(0.0005302283355755449, 0.00024160593851740804, 1.133957854751777)"
      ]
     },
     "execution_count": 334,
     "metadata": {},
     "output_type": "execute_result"
    }
   ],
   "source": [
    "err_ml_1, err_ml_2, np.log2(err_ml_1/err_ml_2)"
   ]
  },
  {
   "cell_type": "markdown",
   "id": "7b02c7c1",
   "metadata": {},
   "source": [
    "# Time Evaluation:"
   ]
  },
  {
   "cell_type": "code",
   "execution_count": 4,
   "id": "44ec90be",
   "metadata": {},
   "outputs": [],
   "source": [
    "import timeit"
   ]
  },
  {
   "cell_type": "code",
   "execution_count": 13,
   "id": "e5087499",
   "metadata": {},
   "outputs": [
    {
     "name": "stdout",
     "output_type": "stream",
     "text": [
      "Time:  5.465309908299969\n"
     ]
    }
   ],
   "source": [
    "sigma = 1\n",
    "a = 1.2\n",
    "T = 0.5\n",
    "v0 = 1\n",
    "beta = 0.4\n",
    "\n",
    "M_ml_1 = 15\n",
    "M_fd = M_ml_1\n",
    "\n",
    "time_step = 10\n",
    "\n",
    "max_k = 20\n",
    "\n",
    "xx = np.linspace(0, 1, 21)\n",
    "theta = .5    \n",
    "\n",
    "start = timeit.default_timer()\n",
    "\n",
    "for _ in range(10):\n",
    "    for T in np.arange(0, 1+1/15, 1/15)[1:]:\n",
    "        prms = [T, sigma, a, beta, v0]\n",
    "        kappa = (T*sigma**2)/(2*a**2)\n",
    "\n",
    "#         ml_1 = mesh_less(kappa, prms, mu, g, theta=theta, M=M_ml_1, N=time_step, max_k=max_k, eps=0.4)\n",
    "    \n",
    "        fd = crank_nicolson_fd(kappa, prms, mu, g, theta=0.5, M=M_fd, N=time_step, max_k=max_k)\n",
    "        fdp = interp1d(fd['X'], np.concatenate((np.array([0]), fd['sol'], np.array([0]))), 'quadratic')\n",
    "\n",
    "\n",
    "stop = timeit.default_timer()\n",
    "\n",
    "print('Time: ', (stop - start)/10)"
   ]
  },
  {
   "cell_type": "code",
   "execution_count": null,
   "id": "44e8039f",
   "metadata": {},
   "outputs": [],
   "source": []
  }
 ],
 "metadata": {
  "kernelspec": {
   "display_name": "Python 3 (ipykernel)",
   "language": "python",
   "name": "python3"
  },
  "language_info": {
   "codemirror_mode": {
    "name": "ipython",
    "version": 3
   },
   "file_extension": ".py",
   "mimetype": "text/x-python",
   "name": "python",
   "nbconvert_exporter": "python",
   "pygments_lexer": "ipython3",
   "version": "3.10.6"
  }
 },
 "nbformat": 4,
 "nbformat_minor": 5
}
