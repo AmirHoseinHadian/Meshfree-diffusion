{
 "cells": [
  {
   "cell_type": "code",
   "execution_count": 1,
   "id": "2ed1ee95",
   "metadata": {},
   "outputs": [],
   "source": [
    "import numpy as np\n",
    "\n",
    "from Solver import mesh_less, crank_nicolson_fd\n",
    "from Utilz import F_v0, F_v0_x, diff, eval_F\n",
    "\n",
    "import matplotlib.pyplot as plt\n",
    "from scipy.interpolate import interp1d\n",
    "import matplotlib.gridspec as gridspec"
   ]
  },
  {
   "cell_type": "code",
   "execution_count": 2,
   "id": "772ed439",
   "metadata": {},
   "outputs": [],
   "source": [
    "def mu(x, t, prms):\n",
    "    T = prms[0]\n",
    "    sigma = prms[1]\n",
    "    a = prms[2]\n",
    "    v0 = prms[3]\n",
    "    v1 = prms[4]\n",
    "    tau = prms[5]\n",
    "    \n",
    "    v0_hat = -T*v0/a\n",
    "    v1_hat = -T*v1/a\n",
    "    tau_hat = tau/T\n",
    "    \n",
    "    return v0_hat + v1_hat*(1-t)/(1-t+tau_hat)"
   ]
  },
  {
   "cell_type": "code",
   "execution_count": 3,
   "id": "52dfbbbb",
   "metadata": {},
   "outputs": [],
   "source": [
    "def g(x, t, prms, max_k=20):\n",
    "    T = prms[0]\n",
    "    sigma = prms[1]\n",
    "    a = prms[2]\n",
    "    v0 = prms[3]\n",
    "    v1 = prms[4]\n",
    "    tau = prms[5]\n",
    "    \n",
    "    kappa = (T*sigma**2)/(2*a**2)\n",
    "\n",
    "    if t == 0:\n",
    "        return 0\n",
    "    elif np.isclose(mu(x, t, prms) - mu(0, 0, prms), 0):\n",
    "        return 0\n",
    "    else:\n",
    "        return (mu(x, t, prms) - mu(0, 0, prms)) * F_v0_x(x, t, kappa, mu(0, 0, prms), max_k)"
   ]
  },
  {
   "cell_type": "markdown",
   "id": "b2dcc352",
   "metadata": {},
   "source": [
    "# Error Estimation:"
   ]
  },
  {
   "cell_type": "code",
   "execution_count": 4,
   "id": "1c35b1ad",
   "metadata": {},
   "outputs": [
    {
     "name": "stdout",
     "output_type": "stream",
     "text": [
      "Exact solution ...\n",
      "T = 0.2, ML_1_ERR = 0.00011235639737518654, ML_2_ERR = 9.102247850074414e-05, and ML_3_ERR = 7.081719841184924e-05\n",
      "FD_ERR = 0.0005675220866270885,\n",
      "\t\t\t\t....................................\n",
      "Exact solution ...\n",
      "T = 0.4, ML_1_ERR = 0.00019117552253662288, ML_2_ERR = 0.0002260571968693458, and ML_3_ERR = 0.0003011379966073432\n",
      "FD_ERR = 0.0011356489814787023,\n",
      "\t\t\t\t....................................\n",
      "Exact solution ...\n",
      "T = 0.6, ML_1_ERR = 0.00015370324680035981, ML_2_ERR = 0.00023402297965958695, and ML_3_ERR = 0.00039271499090047507\n",
      "FD_ERR = 0.0012718076067341282,\n",
      "\t\t\t\t....................................\n",
      "Exact solution ...\n",
      "T = 0.8, ML_1_ERR = 6.568187222805698e-05, ML_2_ERR = 0.00015863770706029103, and ML_3_ERR = 0.0003630729490389278\n",
      "FD_ERR = 0.001281434991396868,\n",
      "\t\t\t\t....................................\n",
      "Exact solution ...\n",
      "T = 1, ML_1_ERR = 8.43549191536532e-05, ML_2_ERR = 0.00010912614570762234, and ML_3_ERR = 0.0003117336154616895\n",
      "FD_ERR = 0.0012459273460854832,\n",
      "\t\t\t\t....................................\n"
     ]
    }
   ],
   "source": [
    "sigma = 1\n",
    "a = 1.3\n",
    "v0 = 1\n",
    "v1 = 0.4\n",
    "tau = 0.7\n",
    "\n",
    "M_ml_1 = 6\n",
    "M_fd = M_ml_1\n",
    "\n",
    "time_step = 6\n",
    "\n",
    "max_k = 20\n",
    "\n",
    "xx = np.linspace(0, 1, 21)\n",
    "theta = 0.5\n",
    "\n",
    "for T in [.2, .4, .6, .8, 1]:\n",
    "    prms = [T, sigma, a, v0, v1, tau]\n",
    "    kappa = (T*sigma**2)/(2*a**2)\n",
    "    \n",
    "    ml_1 = mesh_less(kappa, prms, mu, g, theta=theta, M=M_ml_1, N=time_step, max_k=max_k, eps=0.4)\n",
    "    ml_2 = mesh_less(kappa, prms, mu, g, theta=theta, M=M_ml_1, N=time_step, max_k=max_k, eps=0.8)\n",
    "    ml_3 = mesh_less(kappa, prms, mu, g, theta=theta, M=M_ml_1, N=time_step, max_k=max_k, eps=1.2)\n",
    "    \n",
    "    fd = crank_nicolson_fd(kappa, prms, mu, g, theta=0.5, M=M_fd, N=time_step, max_k=max_k)\n",
    "    print('Exact solution ...')\n",
    "    fd_ex = fd_ex = np.load('_exact/exact_HD_{}.npy'.format(int(T*10)), allow_pickle=True)[()]\n",
    "    \n",
    "    exact = interp1d(fd_ex['X'], np.concatenate((np.array([0]), fd_ex['sol'], np.array([0]))), 'quadratic')\n",
    "    fdp = interp1d(fd['X'], np.concatenate((np.array([0]), fd['sol'], np.array([0]))), 'quadratic')\n",
    "    \n",
    "    fd_err = np.sqrt(np.sum([(fdp(x) - exact(x))**2 for x in xx]))\n",
    "    \n",
    "    err_ml_1 = np.sqrt(np.sum([np.abs(eval_F(ml_1, x) - exact(x))**2 for x in xx]))\n",
    "    err_ml_2 = np.sqrt(np.sum([np.abs(eval_F(ml_2, x) - exact(x))**2 for x in xx]))\n",
    "    err_ml_3 = np.sqrt(np.sum([np.abs(eval_F(ml_3, x) - exact(x))**2 for x in xx]))\n",
    "\n",
    "    print('T = {}, ML_1_ERR = {}, ML_2_ERR = {}, and ML_3_ERR = {}'.format(T, err_ml_1, err_ml_2, err_ml_3))\n",
    "    print('FD_ERR = {},'.format(fd_err))\n",
    "    print(\"\\t\\t\\t\\t....................................\")"
   ]
  },
  {
   "cell_type": "code",
   "execution_count": 55,
   "id": "aaea70a5",
   "metadata": {},
   "outputs": [
    {
     "name": "stdout",
     "output_type": "stream",
     "text": [
      "Exact solution ...\n"
     ]
    }
   ],
   "source": [
    "sigma = 1\n",
    "a = 1.3\n",
    "v0 = 1\n",
    "v1 = 0.4\n",
    "tau = 0.7\n",
    "\n",
    "M_ml_1 = 6\n",
    "M_fd = M_ml_1\n",
    "\n",
    "time_step = 6\n",
    "\n",
    "max_k = 20\n",
    "\n",
    "xx = np.linspace(0, 1, 21)\n",
    "theta = 0.5\n",
    "T = 1\n",
    "prms = [T, sigma, a, v0, v1, tau]\n",
    "kappa = (T*sigma**2)/(2*a**2)\n",
    "\n",
    "m1 = 5\n",
    "m2 = 6\n",
    "\n",
    "ml_1 = mesh_less(kappa, prms, mu, g, theta=theta, M=m1, N=time_step, max_k=max_k, eps=0.4)\n",
    "ml_2 = mesh_less(kappa, prms, mu, g, theta=theta, M=m2, N=time_step, max_k=max_k, eps=0.4)\n",
    "\n",
    "fd_1 = crank_nicolson_fd(kappa, prms, mu, g, theta=0.5, M=m1, N=time_step, max_k=max_k)\n",
    "fd_2 = crank_nicolson_fd(kappa, prms, mu, g, theta=0.5, M=m2, N=time_step, max_k=max_k)\n",
    "print('Exact solution ...')\n",
    "fd_ex = fd_ex = np.load('_exact/exact_HD_{}.npy'.format(int(T*10)), allow_pickle=True)[()]\n",
    "\n",
    "exact = interp1d(fd_ex['X'], np.concatenate((np.array([0]), fd_ex['sol'], np.array([0]))), 'quadratic')\n",
    "fdp_1 = interp1d(fd_1['X'], np.concatenate((np.array([0]), fd_1['sol'], np.array([0]))), 'quadratic')\n",
    "fdp_2 = interp1d(fd_2['X'], np.concatenate((np.array([0]), fd_2['sol'], np.array([0]))), 'quadratic')\n",
    "\n",
    "fd_err_1 = np.sqrt(np.sum([(fdp_1(x) - exact(x))**2 for x in xx]))\n",
    "fd_err_2 = np.sqrt(np.sum([(fdp_2(x) - exact(x))**2 for x in xx]))\n",
    "\n",
    "err_ml_1 = np.sqrt(np.sum([np.abs(eval_F(ml_1, x) - exact(x))**2 for x in xx]))\n",
    "err_ml_2 = np.sqrt(np.sum([np.abs(eval_F(ml_2, x) - exact(x))**2 for x in xx]))"
   ]
  },
  {
   "cell_type": "code",
   "execution_count": 56,
   "id": "8ed76c65",
   "metadata": {},
   "outputs": [
    {
     "data": {
      "text/plain": [
       "(0.0021072915806714847, 0.0012459273460854832, 0.758170007314292)"
      ]
     },
     "execution_count": 56,
     "metadata": {},
     "output_type": "execute_result"
    }
   ],
   "source": [
    "fd_err_1, fd_err_2, np.log2(fd_err_1/fd_err_2)\n"
   ]
  },
  {
   "cell_type": "code",
   "execution_count": 57,
   "id": "a3fb832b",
   "metadata": {},
   "outputs": [
    {
     "data": {
      "text/plain": [
       "(0.0003338476875747724, 8.43549191536532e-05, 1.9846459405312353)"
      ]
     },
     "execution_count": 57,
     "metadata": {},
     "output_type": "execute_result"
    }
   ],
   "source": [
    "err_ml_1, err_ml_2, np.log2(err_ml_1/err_ml_2)"
   ]
  },
  {
   "cell_type": "markdown",
   "id": "5c957785",
   "metadata": {},
   "source": [
    "# Time Evaluation:"
   ]
  },
  {
   "cell_type": "code",
   "execution_count": 4,
   "id": "bf81e0b6",
   "metadata": {},
   "outputs": [],
   "source": [
    "import timeit"
   ]
  },
  {
   "cell_type": "code",
   "execution_count": 35,
   "id": "41f4c7f7",
   "metadata": {},
   "outputs": [
    {
     "name": "stdout",
     "output_type": "stream",
     "text": [
      "Time:  1.2610864458001743\n"
     ]
    }
   ],
   "source": [
    "sigma = 1\n",
    "a = 1.3\n",
    "v0 = 1\n",
    "v1 = 0.4\n",
    "tau = 0.7\n",
    "\n",
    "M_ml_1 = 10\n",
    "M_fd = M_ml_1\n",
    "\n",
    "time_step = 10\n",
    "\n",
    "max_k = 20\n",
    "\n",
    "xx = np.linspace(0, 1, 21)\n",
    "theta = 0.5\n",
    "\n",
    "start = timeit.default_timer()\n",
    "\n",
    "for _ in range(10):\n",
    "    for T in np.arange(0, 1+1/5, 1/5)[1:]:\n",
    "        prms = [T, sigma, a, v0, v1, tau]\n",
    "        kappa = (T*sigma**2)/(2*a**2)\n",
    "\n",
    "#         ml_1 = mesh_less(kappa, prms, mu, g, theta=theta, M=M_ml_1, N=time_step, max_k=max_k, eps=0.4)\n",
    "    \n",
    "        fd = crank_nicolson_fd(kappa, prms, mu, g, theta=0.5, M=M_fd, N=time_step, max_k=max_k)\n",
    "        fdp = interp1d(fd['X'], np.concatenate((np.array([0]), fd['sol'], np.array([0]))), 'quadratic')\n",
    "\n",
    "\n",
    "stop = timeit.default_timer()\n",
    "\n",
    "print('Time: ', (stop - start)/10)"
   ]
  },
  {
   "cell_type": "code",
   "execution_count": 13,
   "id": "31c76608",
   "metadata": {},
   "outputs": [
    {
     "data": {
      "text/plain": [
       "array([0.1, 0.2, 0.3, 0.4, 0.5, 0.6, 0.7, 0.8, 0.9, 1. ])"
      ]
     },
     "execution_count": 13,
     "metadata": {},
     "output_type": "execute_result"
    }
   ],
   "source": [
    "np.arange(0, 1+1/10, 1/10)[1:]"
   ]
  },
  {
   "cell_type": "code",
   "execution_count": null,
   "id": "4e092132",
   "metadata": {},
   "outputs": [],
   "source": []
  }
 ],
 "metadata": {
  "kernelspec": {
   "display_name": "Python 3 (ipykernel)",
   "language": "python",
   "name": "python3"
  },
  "language_info": {
   "codemirror_mode": {
    "name": "ipython",
    "version": 3
   },
   "file_extension": ".py",
   "mimetype": "text/x-python",
   "name": "python",
   "nbconvert_exporter": "python",
   "pygments_lexer": "ipython3",
   "version": "3.10.6"
  }
 },
 "nbformat": 4,
 "nbformat_minor": 5
}
